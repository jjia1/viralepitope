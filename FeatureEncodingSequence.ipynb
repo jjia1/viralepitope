{
 "cells": [
  {
   "cell_type": "markdown",
   "metadata": {},
   "source": [
    "Loading in Packages "
   ]
  },
  {
   "cell_type": "code",
   "execution_count": 1,
   "metadata": {},
   "outputs": [],
   "source": [
    "import numpy as np\n",
    "import pandas as pd\n",
    "import os, re, sys\n",
    "import random"
   ]
  },
  {
   "cell_type": "markdown",
   "metadata": {},
   "source": [
    "Load in pseq dictionary"
   ]
  },
  {
   "cell_type": "code",
   "execution_count": 2,
   "metadata": {},
   "outputs": [],
   "source": [
    "path_dict = \"~/Work/viralepitope/\"\n",
    "pseq_dict = np.load(path_dict+'pseq_dict_all.npy', allow_pickle = True).item()"
   ]
  },
  {
   "cell_type": "markdown",
   "metadata": {},
   "source": [
    "MHC allele converted into pseudoseq using dictionary"
   ]
  },
  {
   "cell_type": "code",
   "execution_count": 3,
   "metadata": {},
   "outputs": [],
   "source": [
    "def convert_alleleseq_to_pseudoseq(seq_dict):\n",
    "    aa={\"A\":0,\"R\":1,\"N\":2,\"D\":3,\"C\":4,\"Q\":5,\"E\":6,\"G\":7,\"H\":8,\"I\":9,\"L\":10,\"K\":11,\"M\":12,\"F\":13,\"P\":14,\"S\":15,\"T\":16,\"W\":17,\"Y\":18,\"V\":19}\n",
    "\n",
    "    residue_indices = list(range(0,34,1))\n",
    "    #Now encode the MHC sequences into pseudo-sequences.\n",
    "    for allele in seq_dict.keys():\n",
    "        new_pseq = []\n",
    "        pseq =\"\"\n",
    "        for index in residue_indices:\n",
    "            pseq+= seq_dict[allele][index]\n",
    "            new_pseq.append(seq_dict[allele]) \n",
    "        pseq_dict[allele] = new_pseq\n",
    "    \n",
    "    return pseq_dict\n",
    "\n",
    "pseq_dict_converted = convert_alleleseq_to_pseudoseq(pseq_dict)\n"
   ]
  },
  {
   "cell_type": "markdown",
   "metadata": {},
   "source": [
    "MHC peptide pair sequence function"
   ]
  },
  {
   "cell_type": "code",
   "execution_count": 4,
   "metadata": {},
   "outputs": [],
   "source": [
    "def mhc_peptide_pair(path, pseq_dict_matrix):\n",
    "    aa={\"A\":0,\"R\":1,\"N\":2,\"D\":3,\"C\":4,\"Q\":5,\"E\":6,\"G\":7,\"H\":8,\"I\":9,\"L\":10,\"K\":11,\"M\":12,\"F\":13,\"P\":14,\"S\":15,\"T\":16,\"W\":17,\"Y\":18,\"V\":19}\n",
    "    data_dict = {}\n",
    "    pep_length = [8,9,10,11,12,13,14,15]\n",
    "    f = open(path,\"r\")\n",
    "    for line in f:\n",
    "        info = re.split(\"\\t\",line)#Retrive information from a tab-delimited line\n",
    "        allele = info[1].strip()\n",
    "        if allele in pseq_dict_matrix.keys():\n",
    "            affinity = int(info[-1].strip()) #Retrive lable information \n",
    "            pep = info[0].strip() #Retrive ligand information \n",
    "            \n",
    "            if set(list(pep)).difference(list('ACDEFGHIKLMNPQRSTVWY')):\n",
    "                print('Illegal peptides')\n",
    "                continue   \n",
    "            if len(pep) not in pep_length:\n",
    "                print('Illegal peptides')\n",
    "                continue \n",
    "                \n",
    "            new_data = [pep, pseq_dict_matrix[allele], affinity]\n",
    "            \n",
    "            if allele not in data_dict.keys():\n",
    "                data_dict[allele] = [new_data]\n",
    "            else:\n",
    "                data_dict[allele].append(new_data)\n",
    "                \n",
    "    return data_dict\n"
   ]
  },
  {
   "cell_type": "code",
   "execution_count": 6,
   "metadata": {},
   "outputs": [
    {
     "name": "stdout",
     "output_type": "stream",
     "text": [
      "Illegal peptides\n",
      "Illegal peptides\n",
      "Illegal peptides\n",
      "Illegal peptides\n",
      "Illegal peptides\n",
      "Illegal peptides\n"
     ]
    }
   ],
   "source": [
    "pseudo_seq = mhc_peptide_pair(path_dict+'fulldata_withlabels_combined.txt', pseq_dict)"
   ]
  },
  {
   "cell_type": "code",
   "execution_count": 7,
   "metadata": {},
   "outputs": [
    {
     "data": {
      "text/plain": [
       "121"
      ]
     },
     "execution_count": 7,
     "metadata": {},
     "output_type": "execute_result"
    }
   ],
   "source": [
    "len(pseudo_seq)\n",
    "#check how many pseudoseq we have"
   ]
  },
  {
   "cell_type": "markdown",
   "metadata": {},
   "source": [
    "Extract sequences from data"
   ]
  },
  {
   "cell_type": "code",
   "execution_count": 8,
   "metadata": {},
   "outputs": [
    {
     "name": "stderr",
     "output_type": "stream",
     "text": [
      "C:\\Users\\luffy\\AppData\\Local\\Temp\\ipykernel_4968\\1456904489.py:5: VisibleDeprecationWarning: Creating an ndarray from ragged nested sequences (which is a list-or-tuple of lists-or-tuples-or ndarrays with different lengths or shapes) is deprecated. If you meant to do this, you must specify 'dtype=object' when creating the ndarray\n",
      "  allele_data = np.array(allele_data)\n"
     ]
    }
   ],
   "source": [
    "training_data = []\n",
    "for allele in pseudo_seq.keys():\n",
    "    allele_data = pseudo_seq[allele]\n",
    "    random.shuffle(allele_data)\n",
    "    allele_data = np.array(allele_data)\n",
    "    training_data.extend(allele_data)\n",
    "\n",
    "[all_pep, all_mhc, all_target] = [[i[j] for i in training_data] for j in range(3)]\n"
   ]
  },
  {
   "cell_type": "markdown",
   "metadata": {},
   "source": [
    "Convert to pandas dataframes"
   ]
  },
  {
   "cell_type": "code",
   "execution_count": 9,
   "metadata": {},
   "outputs": [],
   "source": [
    "all_pepdf = pd.DataFrame(all_pep)\n",
    "all_mhc_df = pd.DataFrame(all_mhc)\n",
    "all_target_df = pd.DataFrame(all_target)\n"
   ]
  },
  {
   "cell_type": "code",
   "execution_count": 10,
   "metadata": {},
   "outputs": [],
   "source": [
    "all_pepdf = pd.concat((all_pepdf,all_target_df), axis = 1)\n",
    "all_mhcdf = pd.concat((all_mhc_df[0], all_target_df), axis = 1)"
   ]
  },
  {
   "cell_type": "code",
   "execution_count": 11,
   "metadata": {},
   "outputs": [],
   "source": [
    "all_pepdf.columns = ['sequence', 'label']\n",
    "all_mhcdf.columns = ['sequence', 'label']"
   ]
  },
  {
   "cell_type": "code",
   "execution_count": 23,
   "metadata": {},
   "outputs": [],
   "source": [
    "pos = all_pepdf['label'] == 1\n",
    "all_pepdf_pos = all_pepdf[pos]\n",
    "all_pepdf_neg = all_pepdf[~pos]\n",
    "pos_mhc = all_mhcdf['label'] == 1\n",
    "all_mhcdf_pos = all_mhcdf[pos_mhc]\n",
    "all_mhcdf_neg = all_mhcdf[~pos_mhc]"
   ]
  },
  {
   "cell_type": "code",
   "execution_count": 24,
   "metadata": {},
   "outputs": [],
   "source": [
    "all_pepdf_pos = all_pepdf_pos.reset_index()\n",
    "all_pepdf_neg = all_pepdf_neg.reset_index()\n",
    "all_mhcdf_pos = all_mhcdf_pos.reset_index()\n",
    "all_mhcdf_neg = all_mhcdf_neg.reset_index()"
   ]
  },
  {
   "cell_type": "markdown",
   "metadata": {},
   "source": [
    "Save Files\n",
    "Text files for Positives and Negative in Fasta Format\n",
    "CSV for Full data as sequence for Protein-Bert"
   ]
  },
  {
   "cell_type": "code",
   "execution_count": 26,
   "metadata": {},
   "outputs": [],
   "source": [
    "ofile = open('viralepitope/positive_viralepitope_sequenceonly.txt', 'w')\n",
    "for i in range(all_pepdf_pos.shape[0]):\n",
    "    ofile.write('>Sequence_'+str(i)+'\\n'+all_pepdf_pos['sequence'][i]+'\\n')\n",
    "ofile.close()\n",
    "\n",
    "\n",
    "     \n",
    "\n",
    "ofile = open('viralepitope/negative_viralepitope_sequenceonly.txt', 'w')\n",
    "for i in range(all_pepdf_neg.shape[0]):\n",
    "    ofile.write('>Sequence_'+str(i)+'\\n'+all_pepdf_neg['sequence'][i]+'\\n')\n",
    "ofile.close()\n",
    "\n",
    "\n",
    "     \n",
    "\n",
    "ofile = open('viralepitope/positive_mhc_sequenceonly.txt', 'w')\n",
    "for i in range(all_mhcdf_pos.shape[0]):\n",
    "    ofile.write('>Sequence_'+str(i)+'\\n'+all_mhcdf_pos['sequence'][i]+'\\n')\n",
    "ofile.close()\n",
    "\n",
    "\n",
    "     \n",
    "\n",
    "ofile = open('viralepitope/negative_mhc_sequenceonly.txt', 'w')\n",
    "for i in range(all_mhcdf_neg.shape[0]):\n",
    "    ofile.write('>Sequence_'+str(i)+'\\n'+all_mhcdf_neg['sequence'][i]+'\\n')\n",
    "ofile.close()\n",
    "\n",
    "\n",
    "     \n",
    "\n",
    "all_pepdf.to_csv('viralepitope/viralepitope_sequenceonly.csv')\n",
    "all_mhcdf.to_csv('viralepitope/mhcepitope_sequenceonly.csv')\n"
   ]
  }
 ],
 "metadata": {
  "kernelspec": {
   "display_name": "Python 3.8.13 ('viralepitope')",
   "language": "python",
   "name": "python3"
  },
  "language_info": {
   "codemirror_mode": {
    "name": "ipython",
    "version": 3
   },
   "file_extension": ".py",
   "mimetype": "text/x-python",
   "name": "python",
   "nbconvert_exporter": "python",
   "pygments_lexer": "ipython3",
   "version": "3.8.13"
  },
  "orig_nbformat": 4,
  "vscode": {
   "interpreter": {
    "hash": "f6c1e82e1a35704d207c526b95d1a6c6a19420508d6fea344f8275c2ab76ce56"
   }
  }
 },
 "nbformat": 4,
 "nbformat_minor": 2
}
