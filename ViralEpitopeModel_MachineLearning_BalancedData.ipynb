{
 "cells": [
  {
   "cell_type": "code",
   "execution_count": 1,
   "metadata": {},
   "outputs": [],
   "source": [
    "import numpy as np\n",
    "import os, re, sys\n",
    "import pandas as pd\n",
    "import random\n",
    "from sklearn.ensemble import RandomForestClassifier"
   ]
  },
  {
   "cell_type": "code",
   "execution_count": 2,
   "metadata": {},
   "outputs": [],
   "source": [
    "import matplotlib\n",
    "import matplotlib.pyplot as plt"
   ]
  },
  {
   "cell_type": "code",
   "execution_count": 3,
   "metadata": {},
   "outputs": [],
   "source": [
    "from sklearn.metrics import (\n",
    "    roc_curve,\n",
    "    auc,\n",
    "    roc_auc_score,\n",
    "    average_precision_score,\n",
    "    precision_recall_curve,\n",
    ")\n",
    "from sklearn.model_selection import train_test_split, StratifiedKFold\n",
    "from sklearn.utils import resample, shuffle\n",
    "from sklearn.feature_selection import (\n",
    "    SelectKBest,\n",
    "    chi2\n",
    ")"
   ]
  },
  {
   "cell_type": "code",
   "execution_count": 4,
   "metadata": {},
   "outputs": [],
   "source": [
    "# in a well-defined initial state.\n",
    "random.seed\n",
    "np.random.seed(1337)"
   ]
  },
  {
   "cell_type": "code",
   "execution_count": 5,
   "metadata": {},
   "outputs": [],
   "source": [
    "all_pep, all_mhc, all_target = np.load('/home/jjia1/jjia1/viralepitope/all_pep_converted.npy'), np.load('/home/jjia1/jjia1/viralepitope/all_mhc_converted.npy'), np.load('/home/jjia1/jjia1/viralepitope/all_target_converted.npy')"
   ]
  },
  {
   "cell_type": "code",
   "execution_count": 6,
   "metadata": {},
   "outputs": [],
   "source": [
    "def balanced_sampling(pep, mhc, target):\n",
    "    pos = np.where(target==1)\n",
    "    neg = np.where(target==0)\n",
    "\n",
    "    pep_pos, mhc_pos, target_pos = pep[pos], mhc[pos], target[pos]\n",
    "    pep_neg, mhc_neg, target_neg = pep[neg], mhc[neg], target[neg]\n",
    "\n",
    "    pep_pos, mhc_pos, target_pos = resample(pep_pos, mhc_pos, target_pos, n_samples= len(target_pos), random_state = 1337)\n",
    "    pep_neg, mhc_neg, target_neg = resample(pep_neg, mhc_neg, target_neg, n_samples= len(target_pos), random_state = 1337)\n",
    "\n",
    "\n",
    "    pep = np.concatenate([pep_pos, pep_neg])\n",
    "    mhc = np.concatenate([mhc_pos, mhc_neg])\n",
    "    target = np.concatenate([target_pos, target_neg])\n",
    "\n",
    "    pep, mhc, target = shuffle(pep, mhc, target, random_state = 1337)\n",
    "    return pep, mhc, target\n",
    "    \n",
    "pep_bal, mhc_bal, target_bal = balanced_sampling(all_pep, all_mhc, all_target)"
   ]
  },
  {
   "cell_type": "code",
   "execution_count": 7,
   "metadata": {},
   "outputs": [],
   "source": [
    "train_pep, test_pep, train_mhc, test_mhc, train_target, test_target = train_test_split(pep_bal, mhc_bal, target_bal, test_size = 0.2, stratify= target_bal)"
   ]
  },
  {
   "cell_type": "code",
   "execution_count": 6,
   "metadata": {},
   "outputs": [],
   "source": [
    "train_pep, test_pep, train_mhc, test_mhc, train_target, test_target = train_test_split(all_pep, all_mhc, all_target, test_size = 0.2, stratify= all_target)"
   ]
  },
  {
   "cell_type": "code",
   "execution_count": 7,
   "metadata": {},
   "outputs": [
    {
     "data": {
      "text/plain": [
       "(756347, 30, 20)"
      ]
     },
     "execution_count": 7,
     "metadata": {},
     "output_type": "execute_result"
    }
   ],
   "source": [
    "train_pep.shape"
   ]
  },
  {
   "cell_type": "code",
   "execution_count": 8,
   "metadata": {},
   "outputs": [],
   "source": [
    "train_pep_reshaped = train_pep.reshape(train_pep.shape[0], (train_pep.shape[1]*train_pep.shape[2]))\n",
    "train_mhc_reshaped = train_mhc.reshape(train_mhc.shape[0], (train_mhc.shape[1]*train_mhc.shape[2]))"
   ]
  },
  {
   "cell_type": "code",
   "execution_count": 9,
   "metadata": {},
   "outputs": [
    {
     "name": "stdout",
     "output_type": "stream",
     "text": [
      "(756347, 600)\n",
      "(756347, 680)\n"
     ]
    }
   ],
   "source": [
    "print(train_pep_reshaped.shape)\n",
    "print(train_mhc_reshaped.shape)"
   ]
  },
  {
   "cell_type": "code",
   "execution_count": 10,
   "metadata": {},
   "outputs": [],
   "source": [
    "train_data = np.column_stack((train_pep_reshaped, train_mhc_reshaped))"
   ]
  },
  {
   "cell_type": "code",
   "execution_count": 11,
   "metadata": {},
   "outputs": [
    {
     "name": "stdout",
     "output_type": "stream",
     "text": [
      "(756347, 1280)\n"
     ]
    }
   ],
   "source": [
    "print(train_data.shape)"
   ]
  },
  {
   "cell_type": "code",
   "execution_count": 12,
   "metadata": {},
   "outputs": [],
   "source": [
    "train_data, train_target = shuffle(train_data, train_target)"
   ]
  },
  {
   "cell_type": "code",
   "execution_count": 13,
   "metadata": {},
   "outputs": [],
   "source": [
    "rf = RandomForestClassifier(random_state = 1337)"
   ]
  },
  {
   "cell_type": "code",
   "execution_count": 14,
   "metadata": {},
   "outputs": [
    {
     "data": {
      "text/plain": [
       "RandomForestClassifier(random_state=1337)"
      ]
     },
     "execution_count": 14,
     "metadata": {},
     "output_type": "execute_result"
    }
   ],
   "source": [
    "rf.fit(train_data, train_target)"
   ]
  },
  {
   "cell_type": "code",
   "execution_count": 15,
   "metadata": {},
   "outputs": [],
   "source": [
    "test_pep_reshaped = test_pep.reshape(test_pep.shape[0], (test_pep.shape[1]*test_pep.shape[2]))\n",
    "test_mhc_reshaped = test_mhc.reshape(test_mhc.shape[0], (test_mhc.shape[1]*test_mhc.shape[2]))\n",
    "test_data = np.column_stack((test_pep_reshaped, test_mhc_reshaped))\n",
    "test_data, test_target = shuffle(test_data, test_target)"
   ]
  },
  {
   "cell_type": "code",
   "execution_count": 16,
   "metadata": {},
   "outputs": [],
   "source": [
    "pred = rf.predict_proba(test_data)"
   ]
  },
  {
   "cell_type": "code",
   "execution_count": 17,
   "metadata": {},
   "outputs": [],
   "source": [
    "fpr, tpr, _ = roc_curve(test_target, pred[:,1])\n",
    "auroc = roc_auc_score(test_target, pred[:,1])\n",
    "pr, rc, _ = precision_recall_curve(test_target, pred[:,1])\n",
    "aupr = average_precision_score(test_target, pred[:,1])"
   ]
  },
  {
   "cell_type": "code",
   "execution_count": 18,
   "metadata": {},
   "outputs": [
    {
     "data": {
      "image/png": "[encoded data removed]",
      "text/plain": [
       "<Figure size 360x360 with 1 Axes>"
      ]
     },
     "metadata": {
      "needs_background": "light"
     },
     "output_type": "display_data"
    }
   ],
   "source": [
    "# method I: plt\n",
    "plt.figure(figsize=(5,5))\n",
    "plt.title('Receiver Operating Characteristic')\n",
    "plt.plot(fpr, tpr, 'b', label = 'Random Forest (AUC %0.4f)' %auroc)\n",
    "plt.plot([0, 1], [0, 1],'red', label = 'Random', linestyle = 'dashed')\n",
    "\n",
    "plt.legend(loc = 'lower right')\n",
    "plt.xlim([0, 1])\n",
    "plt.ylim([0, 1])\n",
    "plt.ylabel('True Positive Rate')\n",
    "plt.xlabel('False Positive Rate')\n",
    "plt.show()"
   ]
  },
  {
   "cell_type": "code",
   "execution_count": 19,
   "metadata": {},
   "outputs": [
    {
     "data": {
      "image/png": "[encoded data removed]",
      "text/plain": [
       "<Figure size 360x360 with 1 Axes>"
      ]
     },
     "metadata": {
      "needs_background": "light"
     },
     "output_type": "display_data"
    }
   ],
   "source": [
    "# method I: plt\n",
    "plt.figure(figsize=(5,5))\n",
    "plt.title('Precision-Recall Curve')\n",
    "plt.plot(rc, pr, 'b', label = 'Random Forest (AUPR %0.4f)' %aupr)\n",
    "\n",
    "plt.legend(loc = 'lower left')\n",
    "plt.xlim([0, 1])\n",
    "plt.ylim([0, 1])\n",
    "plt.ylabel('Precision')\n",
    "plt.xlabel('Recall')\n",
    "plt.show()"
   ]
  },
  {
   "cell_type": "code",
   "execution_count": null,
   "metadata": {},
   "outputs": [],
   "source": [
    "kfold = StratifiedKFold(n_splits=5, shuffle=True, random_state=1337)    \n",
    "allprobas_=np.array([]) \n",
    "all_labels=np.array([])"
   ]
  },
  {
   "cell_type": "code",
   "execution_count": null,
   "metadata": {},
   "outputs": [],
   "source": [
    "for i, (train, test) in enumerate(kfold.split(train_pep, train_target)):\n",
    "    rf = RandomForestClassifier(random_state = 1337)\n",
    "    \n",
    "    train_pep_reshaped = train_pep.reshape(train_pep.shape[0], (train_pep.shape[1]*train_pep.shape[2]))\n",
    "    train_mhc_reshaped = train_mhc.reshape(train_mhc.shape[0], (train_mhc.shape[1]*train_mhc.shape[2]))\n",
    "    train_data = np.column_stack((train_pep_reshaped, train_mhc_reshaped))\n",
    "    train_data, train_target = shuffle(train_data, train_target)\n",
    "\n",
    "    training_pep = train_pep_reshaped[train]\n",
    "    training_mhc = train_mhc_reshaped[train]\n",
    "    training_target = train_target_reshaped[train]\n",
    "    \n",
    "    validation_pep = train_pep[test]\n",
    "    validation_mhc = train_mhc[test]\n",
    "    validation_target = train_target[test]\n",
    "\n",
    "\n",
    "    rf.fit(train_data, train_target)\n",
    "\n",
    "    pred = rf.predict_proba(validation_target)\n",
    "    np.append(all_probas, pred)\n",
    "    np.append(all_labels, validation_target)"
   ]
  },
  {
   "cell_type": "code",
   "execution_count": null,
   "metadata": {},
   "outputs": [],
   "source": []
  }
 ],
 "metadata": {
  "kernelspec": {
   "display_name": "Python 3.10.7 64-bit (microsoft store)",
   "language": "python",
   "name": "python3"
  },
  "language_info": {
   "codemirror_mode": {
    "name": "ipython",
    "version": 3
   },
   "file_extension": ".py",
   "mimetype": "text/x-python",
   "name": "python",
   "nbconvert_exporter": "python",
   "pygments_lexer": "ipython3",
   "version": "3.10.7"
  },
  "orig_nbformat": 4,
  "vscode": {
   "interpreter": {
    "hash": "3feab8137120e1d182a83d47c964b5605fc4572099085475d43e7fd235af6539"
   }
  }
 },
 "nbformat": 4,
 "nbformat_minor": 2
}
